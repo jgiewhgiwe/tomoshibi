{
  "nbformat": 4,
  "nbformat_minor": 0,
  "metadata": {
    "colab": {
      "provenance": []
    },
    "kernelspec": {
      "name": "python3",
      "display_name": "Python 3"
    },
    "language_info": {
      "name": "python"
    }
  },
  "cells": [
    {
      "cell_type": "code",
      "execution_count": 1,
      "metadata": {
        "id": "w6qLZktyNKYz"
      },
      "outputs": [],
      "source": [
        "#ステップ1"
      ]
    },
    {
      "cell_type": "code",
      "source": [
        "result_list = []\n",
        "for number in range(20):\n",
        "  number=number+1\n",
        "  if (number)%3==0:\n",
        "    result_list.append('Multiple of 3')\n",
        "  else:\n",
        "    result_list.append(number)\n",
        "\n",
        "print(result_list)"
      ],
      "metadata": {
        "colab": {
          "base_uri": "https://localhost:8080/"
        },
        "id": "wWZzeUBPPaPO",
        "outputId": "c194cc08-ba72-431a-89e4-d5019ae24ab7"
      },
      "execution_count": 5,
      "outputs": [
        {
          "output_type": "stream",
          "name": "stdout",
          "text": [
            "[1, 2, 'Multiple of 3', 4, 5, 'Multiple of 3', 7, 8, 'Multiple of 3', 10, 11, 'Multiple of 3', 13, 14, 'Multiple of 3', 16, 17, 'Multiple of 3', 19, 20]\n"
          ]
        }
      ]
    }
  ]
}