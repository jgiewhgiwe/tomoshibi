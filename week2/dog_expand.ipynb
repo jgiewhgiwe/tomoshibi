{
  "nbformat": 4,
  "nbformat_minor": 0,
  "metadata": {
    "colab": {
      "provenance": []
    },
    "kernelspec": {
      "name": "python3",
      "display_name": "Python 3"
    },
    "language_info": {
      "name": "python"
    }
  },
  "cells": [
    {
      "cell_type": "code",
      "execution_count": 5,
      "metadata": {
        "colab": {
          "base_uri": "https://localhost:8080/"
        },
        "id": "gUJX9_1jQLYv",
        "outputId": "97bcc127-080c-415b-f1b1-821a21eb2c15"
      },
      "outputs": [
        {
          "output_type": "stream",
          "name": "stdout",
          "text": [
            "ポチがワン！と吠えます。\n",
            "シロがワン！と吠えます。\n",
            "ポチの好物は鶏肉です。\n",
            "シロの好物はバナナです。\n"
          ]
        }
      ],
      "source": [
        "# Dogクラスの定義(favorite属性とlikeメソッドを追加してください)\n",
        "class Dog:\n",
        "    def __init__(self, name, age,favorite):\n",
        "        self.name = name\n",
        "        self.age = age\n",
        "        self.favorite = favorite\n",
        "\n",
        "    def bark(self):\n",
        "        print(f\"{self.name}がワン！と吠えます。\")\n",
        "\n",
        "    def like(self):\n",
        "        print(f\"{self.name}の好物は{self.favorite}です。\")\n",
        "\n",
        "\n",
        "# Dogクラスのインスタンスを作成 (適切な初期化を行ってください)\n",
        "pochi = Dog(\"ポチ\",4,\"鶏肉\")\n",
        "shiro = Dog(\"シロ\",3,\"バナナ\")\n",
        "\n",
        "# インスタンスのメソッドを呼び出す\n",
        "pochi.bark()  # 出力: ポチがワン！と吠えます。\n",
        "shiro.bark()  # 出力: シロがワン！と吠えます。\n",
        "\n",
        "# 以下で実装したlikeメソッドを呼び出してください\n",
        "pochi.like()\n",
        "shiro.like()"
      ]
    }
  ]
}