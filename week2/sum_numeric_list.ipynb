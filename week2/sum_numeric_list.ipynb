{
  "nbformat": 4,
  "nbformat_minor": 0,
  "metadata": {
    "colab": {
      "provenance": []
    },
    "kernelspec": {
      "name": "python3",
      "display_name": "Python 3"
    },
    "language_info": {
      "name": "python"
    }
  },
  "cells": [
    {
      "cell_type": "code",
      "execution_count": 14,
      "metadata": {
        "colab": {
          "base_uri": "https://localhost:8080/"
        },
        "id": "tZygER78QQzr",
        "outputId": "3ec97b57-2424-4c69-80a3-e689251757ad"
      },
      "outputs": [
        {
          "output_type": "stream",
          "name": "stdout",
          "text": [
            "リスト1の合計：15\n",
            "無効な値が含まれています:hello\n",
            "無効な値が含まれています:world\n",
            "リスト2の合計：9\n"
          ]
        }
      ],
      "source": [
        "def sum_numeric_list(data):\n",
        "    total = 0\n",
        "    # ここに処理を記述\n",
        "    for i in data:\n",
        "        try:\n",
        "          total+= i\n",
        "        except TypeError as e:\n",
        "          print(f\"無効な値が含まれています:{i}\")\n",
        "    return total\n",
        "\n",
        "test_list1 = [1, 2, 3, 4, 5]\n",
        "test_list2 = [1, \"hello\", 3, \"world\", 5]\n",
        "print(f\"リスト1の合計：{sum_numeric_list(test_list1)}\")\n",
        "print(f\"リスト2の合計：{sum_numeric_list(test_list2)}\")"
      ]
    }
  ]
}