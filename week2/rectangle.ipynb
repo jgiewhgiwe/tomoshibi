{
  "nbformat": 4,
  "nbformat_minor": 0,
  "metadata": {
    "colab": {
      "provenance": []
    },
    "kernelspec": {
      "name": "python3",
      "display_name": "Python 3"
    },
    "language_info": {
      "name": "python"
    }
  },
  "cells": [
    {
      "cell_type": "code",
      "source": [
        "class Rectangle:\n",
        "  def __init__(self,width,height):\n",
        "    self.width = width\n",
        "    self.height = height\n",
        "\n",
        "  def area(self):\n",
        "    print(f\"面積は{self.width*self.height}です\")\n",
        "\n",
        "  def perimeter(self):\n",
        "    print(f\"周の長さは{2*(self.width+self.height)}です\")\n",
        "\n",
        "yokonaga = Rectangle(50,5)\n",
        "seihou = Rectangle(20,20)\n",
        "\n",
        "yokonaga.area()\n",
        "yokonaga.perimeter()\n",
        "seihou.area()\n",
        "seihou.perimeter()"
      ],
      "metadata": {
        "id": "RKzK0-Nxh8To",
        "colab": {
          "base_uri": "https://localhost:8080/"
        },
        "outputId": "8a6a9422-9a71-4c1e-c456-6bf6c08475dd"
      },
      "execution_count": 6,
      "outputs": [
        {
          "output_type": "stream",
          "name": "stdout",
          "text": [
            "面積は250です\n",
            "周の長さは110です\n",
            "面積は400です\n",
            "周の長さは80です\n"
          ]
        }
      ]
    },
    {
      "cell_type": "code",
      "source": [
        "class Square(Rectangle):\n",
        "  def __init__(self, width):\n",
        "    super().__init__(width, width)\n",
        "\n",
        "seihou1 = Square(20)\n",
        "seihou1.area()\n",
        "seihou1.perimeter()"
      ],
      "metadata": {
        "colab": {
          "base_uri": "https://localhost:8080/"
        },
        "id": "lpgxOnIWlyPf",
        "outputId": "aad3b27b-7a52-49d6-c470-02301516c2f5"
      },
      "execution_count": 8,
      "outputs": [
        {
          "output_type": "stream",
          "name": "stdout",
          "text": [
            "面積は400です\n",
            "周の長さは80です\n"
          ]
        }
      ]
    }
  ]
}